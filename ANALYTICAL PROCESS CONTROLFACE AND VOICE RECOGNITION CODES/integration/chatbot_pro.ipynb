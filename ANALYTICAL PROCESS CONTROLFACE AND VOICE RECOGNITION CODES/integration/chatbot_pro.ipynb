{
 "cells": [
  {
   "cell_type": "code",
   "execution_count": 1,
   "id": "joined-switch",
   "metadata": {
    "scrolled": true
   },
   "outputs": [],
   "source": [
    "from chat_app import*\n",
    "\n",
    "import sys,time\n",
    "from socket import socket\n",
    "import pyttsx3\n",
    "import datetime\n",
    "import speech_recognition as sr\n",
    "from gtts import gTTS # recognize audio\n",
    "import pyaudio\n",
    "import regex as re\n"
   ]
  },
  {
   "cell_type": "code",
   "execution_count": 2,
   "id": "upset-gentleman",
   "metadata": {},
   "outputs": [],
   "source": [
    "from snap7.client import Client as SnapClient\n",
    "from snap7.types import areas\n",
    "from snap7.util import *\n",
    "from opcua import Server, Client, ua, uamethod\n",
    "from plc_utils import read_data, write_data\n",
    "from face_recognition_pro import *"
   ]
  },
  {
   "cell_type": "code",
   "execution_count": 3,
   "id": "assured-repository",
   "metadata": {},
   "outputs": [],
   "source": [
    "engine = pyttsx3.init()"
   ]
  },
  {
   "cell_type": "code",
   "execution_count": 4,
   "id": "colonial-surfing",
   "metadata": {},
   "outputs": [],
   "source": [
    "def init_plc():\n",
    "    global plc\n",
    "    plc=SnapClient()\n",
    "    plc_ip=\"192.168.0.1\"\n",
    "    plc.connect(plc_ip, 0, 1)\n",
    "    plc.get_connected()"
   ]
  },
  {
   "cell_type": "code",
   "execution_count": 5,
   "id": "retained-boating",
   "metadata": {},
   "outputs": [],
   "source": [
    "def voice_data():\n",
    "    r=sr.Recognizer()\n",
    "    with sr.Microphone() as source:\n",
    "        print('this is where you start talking...')\n",
    "        r.adjust_for_ambient_noise(source,duration=2)\n",
    "        audio =r.listen(source)\n",
    "\n",
    "        data=''\n",
    "    try:\n",
    "        data=r.recognize_google(audio)\n",
    "    except sr.UnknownValueError:#check unknown error\n",
    "        print('i dont understand'\n",
    "              'google speech recognition does not recognize text')\n",
    "    except sr.RequestError as e:\n",
    "        print('SORRY, THE SERVICE IS DOWN'+e)\n",
    "    return data"
   ]
  },
  {
   "cell_type": "code",
   "execution_count": 6,
   "id": "extended-heating",
   "metadata": {},
   "outputs": [],
   "source": [
    "\n",
    "def conversation():\n",
    "    #user = get_match()\n",
    "    print(\"Start talking with the bot...\")\n",
    "    engine.say('hello ! I am your assistant Red. what can i do for you?')\n",
    "    engine.runAndWait()\n",
    "    while True:\n",
    "        keywords=['ph',\"setpoint\",\"set\"]\n",
    "        #text=input(\"You: \")\n",
    "        text=voice_data()\n",
    "        if any(i in text for i in keywords ):\n",
    "            print(\"keyword found\")\n",
    "            return text\n",
    "            break\n",
    "        print(chatbot_response(text))\n",
    "        "
   ]
  },
  {
   "cell_type": "code",
   "execution_count": 7,
   "id": "amended-chase",
   "metadata": {
    "scrolled": false
   },
   "outputs": [],
   "source": [
    "def get_ph():\n",
    "    message=conversation()\n",
    "    print(message)\n",
    "    values=re.findall('\\d+', message )\n",
    "\n",
    "    if len(values)==0:    \n",
    "        while True:\n",
    "            print(\"didnt get that.what setpoint do you want?\")\n",
    "            message=conversation()\n",
    "            values=re.findall('\\d+', message ) \n",
    "            if len(values)>0:\n",
    "                ph_value=int(values[0])\n",
    "                break\n",
    "    else:\n",
    "        ph_value=int(values[0])\n",
    "        \n",
    "    return ph_value"
   ]
  },
  {
   "cell_type": "code",
   "execution_count": null,
   "id": "alternative-richmond",
   "metadata": {
    "scrolled": true
   },
   "outputs": [],
   "source": [
    "#ph=get_ph()\n",
    "#print('ph_value:{}'.format(ph))"
   ]
  },
  {
   "cell_type": "code",
   "execution_count": null,
   "id": "retained-culture",
   "metadata": {
    "scrolled": true
   },
   "outputs": [],
   "source": [
    "def set_PH():\n",
    "    init_plc()\n",
    "    setpoint=get_ph()\n",
    "    write_data(plc, 'DB3.DBD0',setpoint)\n",
    "    print('setpoint set to {}'.format(setpoint))\n",
    "    engine.say('setpoint set to {}'.format(setpoint))\n",
    "    engine.runAndWait()\n",
    "    print('starting process')\n",
    "    engine.say('starting process')\n",
    "    engine.runAndWait()\n",
    "    write_data(plc, 'M0.3', False)\n",
    "    write_data(plc, 'M0.2', True)"
   ]
  },
  {
   "cell_type": "code",
   "execution_count": 8,
   "id": "rough-sucking",
   "metadata": {},
   "outputs": [],
   "source": [
    "def stop_process():\n",
    "    init_plc()\n",
    "    stop_words=['stop','end','halt']\n",
    "    text=input(\"You: \")\n",
    "    #text=voice_data()\n",
    "    if any(i in text for i in stop_words ):\n",
    "        print(\"stop word found\")\n",
    "        write_data(plc, 'M0.2', False)\n",
    "        write_data(plc, 'M0.3', True)"
   ]
  },
  {
   "cell_type": "code",
   "execution_count": 9,
   "id": "unlike-technical",
   "metadata": {
    "scrolled": true
   },
   "outputs": [
    {
     "ename": "NameError",
     "evalue": "name 'set_PH' is not defined",
     "output_type": "error",
     "traceback": [
      "\u001b[1;31m---------------------------------------------------------------------------\u001b[0m",
      "\u001b[1;31mNameError\u001b[0m                                 Traceback (most recent call last)",
      "\u001b[1;32m<ipython-input-9-b4bdb900d74d>\u001b[0m in \u001b[0;36m<module>\u001b[1;34m\u001b[0m\n\u001b[1;32m----> 1\u001b[1;33m \u001b[0mset_PH\u001b[0m\u001b[1;33m(\u001b[0m\u001b[1;33m)\u001b[0m\u001b[1;33m\u001b[0m\u001b[1;33m\u001b[0m\u001b[0m\n\u001b[0m",
      "\u001b[1;31mNameError\u001b[0m: name 'set_PH' is not defined"
     ]
    }
   ],
   "source": [
    "\n",
    "set_PH()"
   ]
  },
  {
   "cell_type": "code",
   "execution_count": 10,
   "id": "macro-school",
   "metadata": {
    "scrolled": true
   },
   "outputs": [
    {
     "name": "stdout",
     "output_type": "stream",
     "text": [
      "You: stop\n",
      "stop word found\n"
     ]
    }
   ],
   "source": [
    "stop_process()"
   ]
  },
  {
   "cell_type": "code",
   "execution_count": null,
   "id": "capable-steel",
   "metadata": {},
   "outputs": [],
   "source": []
  }
 ],
 "metadata": {
  "kernelspec": {
   "display_name": "Python 3.6 (chatbot)",
   "language": "python",
   "name": "chatbot"
  },
  "language_info": {
   "codemirror_mode": {
    "name": "ipython",
    "version": 3
   },
   "file_extension": ".py",
   "mimetype": "text/x-python",
   "name": "python",
   "nbconvert_exporter": "python",
   "pygments_lexer": "ipython3",
   "version": "3.6.12"
  },
  "varInspector": {
   "cols": {
    "lenName": 16,
    "lenType": 16,
    "lenVar": 40
   },
   "kernels_config": {
    "python": {
     "delete_cmd_postfix": "",
     "delete_cmd_prefix": "del ",
     "library": "var_list.py",
     "varRefreshCmd": "print(var_dic_list())"
    },
    "r": {
     "delete_cmd_postfix": ") ",
     "delete_cmd_prefix": "rm(",
     "library": "var_list.r",
     "varRefreshCmd": "cat(var_dic_list()) "
    }
   },
   "types_to_exclude": [
    "module",
    "function",
    "builtin_function_or_method",
    "instance",
    "_Feature"
   ],
   "window_display": false
  }
 },
 "nbformat": 4,
 "nbformat_minor": 5
}
