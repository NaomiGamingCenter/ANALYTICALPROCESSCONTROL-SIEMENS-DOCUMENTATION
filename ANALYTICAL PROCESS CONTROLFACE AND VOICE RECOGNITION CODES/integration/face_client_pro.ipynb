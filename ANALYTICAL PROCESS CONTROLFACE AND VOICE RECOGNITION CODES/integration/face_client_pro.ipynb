{
 "cells": [
  {
   "cell_type": "code",
   "execution_count": null,
   "id": "under-portland",
   "metadata": {
    "scrolled": true
   },
   "outputs": [],
   "source": [
    "from snap7.client import Client as SnapClient\n",
    "from snap7.types import areas\n",
    "from snap7.util import *\n"
   ]
  },
  {
   "cell_type": "code",
   "execution_count": null,
   "id": "certain-africa",
   "metadata": {},
   "outputs": [],
   "source": [
    "\n",
    "import sys,time\n",
    "from socket import socket\n",
    "import pyttsx3\n",
    "import datetime\n",
    "import speech_recognition as sr\n",
    "from gtts import gTTS # recognize audio\n",
    "import pyaudio\n",
    "import regex as re"
   ]
  },
  {
   "cell_type": "code",
   "execution_count": null,
   "id": "rotary-population",
   "metadata": {},
   "outputs": [],
   "source": [
    "#custom imports\n",
    "from face_client_security_pro import OPC_CLIENT_SECURITY\n",
    "from plc_utils import read_data, write_data\n",
    "from face_recognizer import *\n",
    "from chatbot_pro import *\n"
   ]
  },
  {
   "cell_type": "markdown",
   "id": "prepared-premiere",
   "metadata": {},
   "source": [
    "# create objects"
   ]
  },
  {
   "cell_type": "code",
   "execution_count": null,
   "id": "intended-northern",
   "metadata": {},
   "outputs": [],
   "source": [
    "opc_client = OPC_CLIENT_SECURITY()\n",
    "opc_client.init_opc_client_security('192.168.137.73')\n",
    "engine = pyttsx3.init()"
   ]
  },
  {
   "cell_type": "markdown",
   "id": "adolescent-piano",
   "metadata": {},
   "source": [
    "# request authentication"
   ]
  },
  {
   "cell_type": "code",
   "execution_count": null,
   "id": "dramatic-venture",
   "metadata": {},
   "outputs": [],
   "source": [
    "credentials = recognizer(get_face())\n",
    "response = opc_client.get_opc_server_access(str(credentials))"
   ]
  },
  {
   "cell_type": "markdown",
   "id": "royal-mambo",
   "metadata": {},
   "source": [
    "# connect to server and run chatbot"
   ]
  },
  {
   "cell_type": "code",
   "execution_count": null,
   "id": "wrong-exhibition",
   "metadata": {
    "scrolled": true
   },
   "outputs": [],
   "source": [
    "\n",
    "while response == \"Failure\":\n",
    "    print(\"Server access denied. Retrying\")\n",
    "    credentials = recognizer()\n",
    "    response = opc_client.get_opc_server_access(str(credentials))\n",
    "    if response == \"Success\":\n",
    "        break\n",
    "\n",
    "print(\"Server access granted\")\n",
    "\n",
    "url = \"opc.tcp://127.0.0.1:4840\"\n",
    "client = Client(url)\n",
    "\n",
    "client.connect()\n",
    "engine.say(\"Client Connected\")\n",
    "engine.runAndWait()\n",
    "\n",
    "if True:\n",
    "    engine.say(' Hello! I am your assistant Red. what can i do for you?'.format(str(credentials)))\n",
    "    engine.runAndWait()\n",
    "    set_PH()\n",
    "    \n",
    "        "
   ]
  },
  {
   "cell_type": "code",
   "execution_count": null,
   "id": "every-association",
   "metadata": {
    "scrolled": true
   },
   "outputs": [],
   "source": [
    "stop_process()"
   ]
  },
  {
   "cell_type": "code",
   "execution_count": null,
   "id": "rational-disaster",
   "metadata": {
    "scrolled": false
   },
   "outputs": [],
   "source": [
    "set_PH()"
   ]
  },
  {
   "cell_type": "code",
   "execution_count": null,
   "id": "divine-relations",
   "metadata": {},
   "outputs": [],
   "source": []
  }
 ],
 "metadata": {
  "kernelspec": {
   "display_name": "Python 3.6 (chatbot)",
   "language": "python",
   "name": "chatbot"
  },
  "language_info": {
   "codemirror_mode": {
    "name": "ipython",
    "version": 3
   },
   "file_extension": ".py",
   "mimetype": "text/x-python",
   "name": "python",
   "nbconvert_exporter": "python",
   "pygments_lexer": "ipython3",
   "version": "3.6.12"
  },
  "varInspector": {
   "cols": {
    "lenName": 16,
    "lenType": 16,
    "lenVar": 40
   },
   "kernels_config": {
    "python": {
     "delete_cmd_postfix": "",
     "delete_cmd_prefix": "del ",
     "library": "var_list.py",
     "varRefreshCmd": "print(var_dic_list())"
    },
    "r": {
     "delete_cmd_postfix": ") ",
     "delete_cmd_prefix": "rm(",
     "library": "var_list.r",
     "varRefreshCmd": "cat(var_dic_list()) "
    }
   },
   "types_to_exclude": [
    "module",
    "function",
    "builtin_function_or_method",
    "instance",
    "_Feature"
   ],
   "window_display": false
  }
 },
 "nbformat": 4,
 "nbformat_minor": 5
}
